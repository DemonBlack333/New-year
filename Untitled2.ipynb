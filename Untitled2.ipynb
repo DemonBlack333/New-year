{
  "nbformat": 4,
  "nbformat_minor": 0,
  "metadata": {
    "colab": {
      "provenance": []
    },
    "kernelspec": {
      "name": "python3",
      "display_name": "Python 3"
    },
    "language_info": {
      "name": "python"
    }
  },
  "cells": [
    {
      "cell_type": "code",
      "execution_count": 2,
      "metadata": {
        "id": "Gd2N03Hj2F7r"
      },
      "outputs": [],
      "source": [
        "class Human:\n",
        "  \n",
        "  def __init__ (self, name, surname, age, city):\n",
        "    self._name = name\n",
        "    self._surname = surname\n",
        "    self._age = age\n",
        "    self._city = city\n",
        "def info(self):\n",
        "  print(\"Name:\", self._name, \"\\nLast name:\", self._surname, \"\\nAge:\", self._age, \"\\nCity:\", self._city)"
      ]
    },
    {
      "cell_type": "code",
      "source": [
        "class Santa(Human):\n",
        "\n",
        "  def __init__(self, name, surname, age, city, Location, Gift):\n",
        "  \n",
        "    self._Location = Location\n",
        "    self._Gift = Gift\n",
        "    Human.__init__(self, age, city, name, surname)\n",
        "\n",
        "  def info(self):\n",
        "    print(\"Name:\",self._name, \"\\nLast name:\", self._surname)\n",
        "    print(\"Class:\", self._Location,\"\\nScores:\", self._Gift)"
      ],
      "metadata": {
        "id": "80OJK2373ypg"
      },
      "execution_count": 4,
      "outputs": []
    },
    {
      "cell_type": "code",
      "source": [
        "\n",
        "        \n",
        "\n",
        "\n",
        "\n",
        "\n",
        "\n",
        "\n"
      ],
      "metadata": {
        "id": "axQC9kiNDexA"
      },
      "execution_count": null,
      "outputs": []
    }
  ]
}